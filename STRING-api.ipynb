{
 "cells": [
  {
   "cell_type": "code",
   "execution_count": null,
   "id": "430d73fd",
   "metadata": {},
   "outputs": [],
   "source": [
    "import requests\n",
    "import json\n",
    "import os"
   ]
  },
  {
   "cell_type": "code",
   "execution_count": 2,
   "id": "b0623704",
   "metadata": {},
   "outputs": [],
   "source": [
    "def load_genes_from_file(filepath):\n",
    "    \"\"\"Load gene IDs from a file, one per line.\"\"\"\n",
    "    with open(filepath, \"r\") as file:\n",
    "        genes = [line.split(\"\\t\")[0] for line in file if line.strip()]\n",
    "    return genes\n"
   ]
  },
  {
   "cell_type": "code",
   "execution_count": 4,
   "id": "70a5f1d2",
   "metadata": {},
   "outputs": [],
   "source": [
    "def routine(input, output, annot):\n",
    "    string_api_url = \"https://version-12-0.string-db.org/api\"\n",
    "    output_format = \"json\"\n",
    "    method = \"enrichment\"\n",
    "\n",
    "    request_url = \"/\".join([string_api_url, output_format, method])\n",
    "\n",
    "    my_genes = load_genes_from_file(input)\n",
    "\n",
    "    params = {\n",
    "\n",
    "        \"identifiers\" : \"%0d\".join(my_genes), # your protein\n",
    "        \"species\" : 10090, # NCBI/STRING taxon identifier \n",
    "        \"caller_identity\" : \"gressm@natur.cuni.cz\" # your app name\n",
    "    }\n",
    "\n",
    "    response = requests.post(request_url, data=params)\n",
    "    data = json.loads(response.text)\n",
    "    print(\"Success!!!\", len(data))\n",
    "    \n",
    "    with open(output, \"w\", encoding=\"utf-8\") as f:\n",
    "        # Optionally write a header\n",
    "        f.write(\"ID\\tFDR\\tNumber_in_List\\tNumber_in_Reference\\tDescription\\tProteins\\n\")\n",
    "\n",
    "        for row in data:\n",
    "\n",
    "            term = row[\"term\"]\n",
    "            preferred_names = \",\".join(row[\"preferredNames\"])\n",
    "            fdr = float(row[\"fdr\"])\n",
    "            description = f'\"{row[\"description\"]}\"'\n",
    "            number_in_list=row[\"number_of_genes\"]\n",
    "            number_in_reference=row[\"number_of_genes_in_background\"]\n",
    "            category = row[\"category\"]\n",
    "\n",
    "            if category == annot and fdr < 0.05:\n",
    "                f.write(\"\\t\".join([\n",
    "                    str(term),\n",
    "                    f\"{fdr:.2e}\",\n",
    "                    str(number_in_list),\n",
    "                    str(number_in_reference),\n",
    "                    description,\n",
    "                    preferred_names\n",
    "\n",
    "                ]) + \"\\n\")\n",
    "    return response"
   ]
  },
  {
   "cell_type": "code",
   "execution_count": null,
   "id": "b38424ac",
   "metadata": {},
   "outputs": [],
   "source": [
    "from typing import List, Optional\n",
    "\n",
    "def map_to_string_db(\n",
    "    input_file: str,\n",
    "    output_file: Optional[str] = None,\n",
    "    species: int = 10090,  # Mouse by default\n",
    "    limit: int = 1,\n",
    "    echo_query: int = 1,\n",
    "    caller_identity: str = \"Unknown\"\n",
    ") -> None:\n",
    "    \"\"\"\n",
    "    Query STRING API and save results to file and/or print to console.\n",
    "    \n",
    "    Args:\n",
    "        input_file: Path to input TSV file with gene names\n",
    "        output_file: Path to save results (None for no file output)\n",
    "        species: NCBI taxon ID (10090 for mouse)\n",
    "        limit: Max results per identifier\n",
    "        echo_query: Include input identifiers in output\n",
    "        caller_identity: Application identifier\n",
    "    \"\"\"\n",
    "    # STRING API configuration\n",
    "    string_api_url = \"https://version-12-0.string-db.org/api\"\n",
    "    output_format = \"tsv-no-header\"\n",
    "    method = \"get_string_ids\"\n",
    "    \n",
    "    # Prepare parameters\n",
    "    params = {\n",
    "        \"identifiers\": \"\\r\".join(load_genes_from_file(input_file)),\n",
    "        \"species\": species,\n",
    "        \"limit\": limit,\n",
    "        \"echo_query\": echo_query,\n",
    "        \"caller_identity\": caller_identity\n",
    "    }\n",
    "    \n",
    "    # Construct and make request\n",
    "    request_url = \"/\".join([string_api_url, output_format, method])\n",
    "    results = requests.post(request_url, data=params)\n",
    "    \n",
    "    # Process results\n",
    "    output_lines = []\n",
    "    for i, line in enumerate(results.text.strip().split(\"\\n\")):\n",
    "        if not line.strip():\n",
    "            continue\n",
    "        parts = line.split(\"\\t\")\n",
    "        if len(parts) < 3:\n",
    "            continue\n",
    "            \n",
    "        input_identifier, string_identifier = parts[0], parts[2]\n",
    "        output_line = f\"{i}\\tInput:\\t{input_identifier}\\tSTRING:\\t{string_identifier}\"\n",
    "        output_lines.append(output_line)\n",
    "        #print(output_line)\n",
    "    \n",
    "    # Write to file if specified\n",
    "    if output_file:\n",
    "        with open(output_file, 'w') as f:\n",
    "            f.write(\"\\n\".join(output_lines) + \"\\n\")"
   ]
  },
  {
   "cell_type": "markdown",
   "id": "f9109849",
   "metadata": {},
   "source": [
    "## View 1 & 2 "
   ]
  },
  {
   "cell_type": "code",
   "execution_count": null,
   "id": "54a490a3",
   "metadata": {},
   "outputs": [
    {
     "name": "stdout",
     "output_type": "stream",
     "text": [
      "Processing: view1-padj_OE-female.tsv  for BP ...\n",
      "Success!!! 0\n",
      "Processing: view1-padj_OE-female.tsv  for MF ...\n",
      "Success!!! 0\n",
      "Processing: view1-padj_OE-male.tsv  for BP ...\n",
      "Success!!! 103\n",
      "Processing: view1-padj_OE-male.tsv  for MF ...\n",
      "Success!!! 103\n",
      "Processing: view1-padj_VNO-female.tsv  for BP ...\n",
      "Success!!! 219\n",
      "Processing: view1-padj_VNO-female.tsv  for MF ...\n",
      "Success!!! 219\n",
      "Processing: view1-padj_VNO-male.tsv  for BP ...\n",
      "Success!!! 102\n",
      "Processing: view1-padj_VNO-male.tsv  for MF ...\n",
      "Success!!! 102\n"
     ]
    }
   ],
   "source": [
    "work_dir =  r\"C:\\Users\\misog\\Documents\\CUNI\\sem06\\bc_data\\Ontology2\"\n",
    "views = [\"view1-padj\" ,\"view2-lfc2-p05\"]\n",
    "suffixes = [\"OE-female\", \"OE-male\", \"VNO-female\", \"VNO-male\"]\n",
    "\n",
    "annot_BP=\"Process\"\n",
    "annot_MF=\"Function\"\n",
    "\n",
    "for view in views:\n",
    "    for suff in suffixes:\n",
    "        file = view + '_' + suff \n",
    "        in_file=os.path.join(work_dir, view, file + '.tsv')\n",
    "\n",
    "        out_BP_file = os.path.join(work_dir, view, \"STRING\", file  + '.BP.out.tsv')\n",
    "        out_MF_file = os.path.join(work_dir, view, \"STRING\", file  + '.MF.out.tsv')\n",
    "\n",
    "        print(\"Processing:\", os.path.basename(in_file), \" for BP ...\")\n",
    "        routine(in_file, out_BP_file, annot_BP)\n",
    "        print(\"Processing:\", os.path.basename(in_file), \" for MF ...\")\n",
    "        routine(in_file, out_MF_file, annot_MF)\n",
    "        \n",
    "        out_map=os.path.join(work_dir, view, \"STRING\", file  + '.map.out.tsv')\n",
    "        map_to_string_db(in_file, out_map)"
   ]
  },
  {
   "cell_type": "markdown",
   "id": "4d9c2e8e",
   "metadata": {},
   "source": [
    "## View 3"
   ]
  },
  {
   "cell_type": "code",
   "execution_count": null,
   "id": "39326088",
   "metadata": {},
   "outputs": [
    {
     "name": "stdout",
     "output_type": "stream",
     "text": [
      "Processing: view3-mean-h100_OE.tsv  for BP ...\n",
      "Success!!! 289\n",
      "Processing: view3-mean-h100_OE.tsv  for MF ...\n",
      "Success!!! 289\n",
      "Processing: view3-mean-h100_VNO.tsv  for BP ...\n",
      "Success!!! 327\n",
      "Processing: view3-mean-h100_VNO.tsv  for MF ...\n",
      "Success!!! 327\n"
     ]
    }
   ],
   "source": [
    "import os\n",
    "work_dir =  r\"C:\\Users\\misog\\Documents\\CUNI\\sem06\\bc_data\\Ontology2\"\n",
    "view = \"view3-mean-h100\"\n",
    "suffixes = [\"OE\", \"VNO\"]\n",
    "\n",
    "annot_BP=\"Process\"\n",
    "annot_MF=\"Function\"\n",
    "\n",
    "for suff in suffixes:\n",
    "    file = view + '_' + suff \n",
    "    in_file=os.path.join(work_dir, view, file + '.tsv')\n",
    "\n",
    "    out_BP_file = os.path.join(work_dir, view, \"STRING\", file  + '.BP.out.tsv')\n",
    "    out_MF_file = os.path.join(work_dir, view, \"STRING\", file  + '.MF.out.tsv')\n",
    "\n",
    "    print(\"Processing:\", os.path.basename(in_file), \" for BP ...\")\n",
    "    routine(in_file, out_BP_file, annot_BP)\n",
    "    print(\"Processing:\", os.path.basename(in_file), \" for MF ...\")\n",
    "    routine(in_file, out_MF_file, annot_MF)\n",
    "    \n",
    "    out_map=os.path.join(work_dir, view, \"STRING\", file  + '.map.out.tsv')\n",
    "    map_to_string_db(in_file, out_map)\n"
   ]
  }
 ],
 "metadata": {
  "kernelspec": {
   "display_name": "Python 3",
   "language": "python",
   "name": "python3"
  },
  "language_info": {
   "codemirror_mode": {
    "name": "ipython",
    "version": 3
   },
   "file_extension": ".py",
   "mimetype": "text/x-python",
   "name": "python",
   "nbconvert_exporter": "python",
   "pygments_lexer": "ipython3",
   "version": "3.10.11"
  }
 },
 "nbformat": 4,
 "nbformat_minor": 5
}
