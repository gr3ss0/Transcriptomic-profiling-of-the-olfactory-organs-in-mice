{
 "cells": [
  {
   "cell_type": "code",
   "execution_count": null,
   "id": "57d885c2",
   "metadata": {},
   "outputs": [],
   "source": [
    "# Precompute lenghts from GTF annot\n",
    "annot_file = \"./Mus_musculus.GRCm39.113.chr.gtf\"\n",
    "lengths_file = \"./gene_lengths.tsv\"\n",
    "# OE\n",
    "count_matrix_OE = \"./nstrand_deseq_0426_093139/deseq2_results_OE.csv\"\n",
    "output_fpkm_OE= \"/nstrand_deseq_0426_093139/FPKM_OE.tsv\"\n",
    "# VNO\n",
    "count_matrix_VNO = \"./nstrand_deseq_0426_093139/deseq2_results_VNO.csv\"\n",
    "output_fpkm_VNO= \"./nstrand_deseq_0426_093139/FPKM_VNO.tsv\""
   ]
  },
  {
   "cell_type": "code",
   "execution_count": null,
   "id": "8d32bbbc",
   "metadata": {},
   "outputs": [],
   "source": [
    "import pandas as pd\n",
    "import re"
   ]
  },
  {
   "cell_type": "code",
   "execution_count": null,
   "id": "d9b85e8f",
   "metadata": {},
   "outputs": [],
   "source": [
    "def process_line(line):\n",
    "    \"\"\"Process a single line: compute (col1 - col2 +1) and extract gene_id.\"\"\"\n",
    "    columns = line.strip().split()  # Split by whitespace\n",
    "    \n",
    "    try:\n",
    "        if columns[2]=='gene':\n",
    "            start = int(columns[3]) \n",
    "            end = int(columns[4])\n",
    "            difference = end - start + 1\n",
    "            # Extract gene_id using regex\n",
    "            gene_id_match = re.search(r'gene_id \"([^\"]+)\"', line)\n",
    "            gene_id = gene_id_match.group(1) if gene_id_match else \"NOT_FOUND\"\n",
    "\n",
    "            return f\"{gene_id}\\t{difference}\"\n",
    "    except (ValueError, IndexError):\n",
    "        return None  # Skip if columns are not integers\n",
    "\n",
    "    \n",
    "\n",
    "def precompute_lengths(input_file, output_file):\n",
    "    \"\"\"Process input file and write results to output.\"\"\"\n",
    "    print(\"Counting gene lengths in file\", input_file, \"...\")\n",
    "    with open(input_file, 'r') as infile, open(output_file, 'w') as outfile:\n",
    "        for line in infile:\n",
    "            if line.startswith('#'):  # Skip comment lines\n",
    "                continue\n",
    "            processed = process_line(line)\n",
    "            if processed:\n",
    "                outfile.write(processed + '\\n')\n",
    "    print(\"Gene lengths stored into\", output_file)\n"
   ]
  },
  {
   "cell_type": "code",
   "execution_count": null,
   "id": "d6560dae",
   "metadata": {},
   "outputs": [],
   "source": [
    "def FPKM_normalization(count_file, lenghts_file, output_file):\n",
    "    print(\"Normalizing file\", count_file, \"...\")\n",
    "    df = pd.read_csv(count_file,  index_col=0)\n",
    "    df = df[['baseMean']].sort_index()\n",
    "    # Step 1: get your per million scaling factor\n",
    "    perML_factor = df.sum() / 1e6\n",
    "    df['RPM'] = df / perML_factor\n",
    "    df=df.reset_index().sort_index()\n",
    "    lengths= pd.read_csv(lenghts_file, sep='\\t', header=None, names=['index', 'length'])\n",
    "    lengths['length_kb'] = lengths['length'] / 1e3\n",
    "\n",
    "    merged_df = pd.merge(df, lengths, on=\"index\")\n",
    "    merged_df['RPKM'] = merged_df['RPM']/merged_df['length_kb']\n",
    "\n",
    "    merged_df.to_csv(output_file, sep='\\t', index=False, header=False, columns=['index','RPKM'])\n",
    "    print(\"Normalized counts stored into\", output_file)"
   ]
  },
  {
   "cell_type": "code",
   "execution_count": null,
   "id": "a4e3ddfc",
   "metadata": {},
   "outputs": [],
   "source": [
    "\n",
    "precompute_lengths(annot_file, lengths_file)\n",
    "FPKM_normalization(count_matrix_OE, lengths_file, output_fpkm_OE)\n",
    "FPKM_normalization(count_matrix_VNO, lengths_file, output_fpkm_VNO)"
   ]
  }
 ],
 "metadata": {
  "kernelspec": {
   "display_name": "Python 3",
   "language": "python",
   "name": "python3"
  },
  "language_info": {
   "codemirror_mode": {
    "name": "ipython",
    "version": 3
   },
   "file_extension": ".py",
   "mimetype": "text/x-python",
   "name": "python",
   "nbconvert_exporter": "python",
   "pygments_lexer": "ipython3",
   "version": "3.10.11"
  }
 },
 "nbformat": 4,
 "nbformat_minor": 5
}
