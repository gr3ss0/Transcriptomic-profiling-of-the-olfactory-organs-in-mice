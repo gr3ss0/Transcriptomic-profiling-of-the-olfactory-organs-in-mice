{
 "cells": [
  {
   "cell_type": "code",
   "execution_count": null,
   "id": "1e857813",
   "metadata": {},
   "outputs": [],
   "source": [
    "import requests\n",
    "import os"
   ]
  },
  {
   "cell_type": "code",
   "execution_count": 2,
   "id": "c78b5d05",
   "metadata": {},
   "outputs": [],
   "source": [
    "def load_genes_from_file(filepath):\n",
    "    \"\"\"Load gene IDs from a file, one per line.\"\"\"\n",
    "    with open(filepath, \"r\") as file:\n",
    "        genes = [line.split(\"\\t\")[0] for line in file if line.strip()]\n",
    "    return genes\n"
   ]
  },
  {
   "cell_type": "code",
   "execution_count": null,
   "id": "d282dea1",
   "metadata": {},
   "outputs": [],
   "source": [
    "\n",
    "def run_panther_overrep(gene_list, organism=\"10090\", annotation_type=\"GO:0008150\"):\n",
    "    \"\"\"\n",
    "    Perform PANTHER overrepresentation analysis via API.\n",
    "    \n",
    "    Parameters:\n",
    "        gene_list (list): List of gene identifiers (e.g., Ensembl IDs).\n",
    "        organism (str): NCBI Taxonomy ID (e.g., 9606 for human, 10090 for mouse).\n",
    "        annotation_type (str): Type of GO annotation ('biological_process', 'molecular_function', etc.).\n",
    "    \n",
    "    Returns:\n",
    "        dict: Parsed results of the enrichment analysis.\n",
    "    \"\"\"\n",
    "    url = \"https://pantherdb.org/services/oai/pantherdb/enrich/overrep\"\n",
    "\n",
    "    params = {\n",
    "        \"geneInputList\": \",\".join(gene_list),\n",
    "        \"organism\": organism,\n",
    "        \"annotDataSet\": annotation_type\n",
    "    }\n",
    "    response = requests.get(url, params=params)\n",
    "\n",
    "    # Check response\n",
    "    if response.status_code == 200:\n",
    "        result = response.json()\n",
    "        return result\n",
    "    else:\n",
    "        raise Exception(f\"Error {response.status_code}: {response.text}\")\n",
    "\n"
   ]
  },
  {
   "cell_type": "code",
   "execution_count": null,
   "id": "2d482dd7",
   "metadata": {},
   "outputs": [],
   "source": [
    "import csv\n",
    "\n",
    "def save_results_to_tsv(results, output_file):\n",
    "    \"\"\"\n",
    "    Save filtered enrichment results to a TSV file.\n",
    "    \"\"\"\n",
    "    with open(output_file, mode='w', newline='', encoding='utf-8') as f:\n",
    "        writer = csv.writer(f, delimiter='\\t')\n",
    "        \n",
    "        # Header\n",
    "        writer.writerow([\n",
    "            \"ID\", \"FDR\", \"Observed\", \"Reference\", \"Term\"\n",
    "        ])\n",
    "\n",
    "        for result in results.get(\"results\", {}).get(\"result\", []):\n",
    "            if result[\"fdr\"] <= 0.05:\n",
    "                term = result[\"term\"]\n",
    "                writer.writerow([\n",
    "                    term.get(\"id\"),\n",
    "                    #f\"{result['pValue']:.2e}\",\n",
    "                    f\"{result['fdr']:.2e}\",\n",
    "                    #result.get(\"fold_enrichment\"),\n",
    "                    result.get(\"number_in_list\"),\n",
    "                    result.get(\"number_in_reference\"),\n",
    "                    #f\"{result.get('expected', 0):.2f}\",\n",
    "                    f'\\'{term.get(\"label\")}\\''\n",
    "                ])\n"
   ]
  },
  {
   "cell_type": "code",
   "execution_count": 5,
   "id": "220ff917",
   "metadata": {},
   "outputs": [],
   "source": [
    "def save_mapped(response, output):\n",
    "    mapped_ids  = response['results']['input_list'][ 'mapped_ids'].split(',')\n",
    "# Write to file with one ID per line\n",
    "    with open(output, 'w') as f:\n",
    "        for gene_id in mapped_ids:\n",
    "            if gene_id.strip():  # Skip empty entries\n",
    "                f.write(f\"{gene_id.strip()}\\n\")"
   ]
  },
  {
   "cell_type": "code",
   "execution_count": null,
   "id": "ab53717b",
   "metadata": {},
   "outputs": [],
   "source": [
    "\n",
    "def routine_overrrep(input, output, annot):\n",
    "    mouse_id=10090\n",
    "\n",
    "    try:\n",
    "        gene_list=load_genes_from_file(input)\n",
    "        print(\"Loaded genes:\", len(gene_list))\n",
    "        results = run_panther_overrep(gene_list, organism=mouse_id, annotation_type=annot)\n",
    "        save_results_to_tsv(results, output)\n",
    "        print(f\"Results saved to {output}\")\n",
    "        return results\n",
    "        \n",
    "    except Exception as e:\n",
    "        print(f\"Failed to run enrichment: {e}\")\n"
   ]
  },
  {
   "cell_type": "markdown",
   "id": "05a0b207",
   "metadata": {},
   "source": [
    "## View 1&2"
   ]
  },
  {
   "cell_type": "code",
   "execution_count": null,
   "id": "cb10c675",
   "metadata": {},
   "outputs": [
    {
     "name": "stdout",
     "output_type": "stream",
     "text": [
      "Processing: view1-padj_OE-female.tsv  for BP ...\n",
      "genes: 3\n",
      "Success!!! 1\n",
      "Results saved to C:\\Users\\misog\\Documents\\CUNI\\sem06\\bc_data\\Ontology2\\view1-padj\\PANTHER\\view1-padj_OE-female.BP.out.tsv\n",
      "Processing: view1-padj_OE-female.tsv  for MF ...\n",
      "genes: 3\n",
      "Success!!! 1\n",
      "Results saved to C:\\Users\\misog\\Documents\\CUNI\\sem06\\bc_data\\Ontology2\\view1-padj\\PANTHER\\view1-padj_OE-female.MF.out.tsv\n",
      "Processing: view1-padj_OE-male.tsv  for BP ...\n",
      "genes: 6\n",
      "Success!!! 1\n",
      "Results saved to C:\\Users\\misog\\Documents\\CUNI\\sem06\\bc_data\\Ontology2\\view1-padj\\PANTHER\\view1-padj_OE-male.BP.out.tsv\n",
      "Processing: view1-padj_OE-male.tsv  for MF ...\n",
      "genes: 6\n",
      "Failed to run enrichment: ('Connection broken: InvalidChunkLength(got length b\\'list\": 0,\\\\n\\', 0 bytes read)', InvalidChunkLength(got length b'list\": 0,\\n', 0 bytes read))\n",
      "Processing: view1-padj_VNO-female.tsv  for BP ...\n",
      "genes: 25\n",
      "Success!!! 1\n",
      "Results saved to C:\\Users\\misog\\Documents\\CUNI\\sem06\\bc_data\\Ontology2\\view1-padj\\PANTHER\\view1-padj_VNO-female.BP.out.tsv\n",
      "Processing: view1-padj_VNO-female.tsv  for MF ...\n",
      "genes: 25\n",
      "Success!!! 1\n",
      "Results saved to C:\\Users\\misog\\Documents\\CUNI\\sem06\\bc_data\\Ontology2\\view1-padj\\PANTHER\\view1-padj_VNO-female.MF.out.tsv\n",
      "Processing: view1-padj_VNO-male.tsv  for BP ...\n",
      "genes: 8\n",
      "Success!!! 1\n",
      "Results saved to C:\\Users\\misog\\Documents\\CUNI\\sem06\\bc_data\\Ontology2\\view1-padj\\PANTHER\\view1-padj_VNO-male.BP.out.tsv\n",
      "Processing: view1-padj_VNO-male.tsv  for MF ...\n",
      "genes: 8\n",
      "Success!!! 1\n",
      "Results saved to C:\\Users\\misog\\Documents\\CUNI\\sem06\\bc_data\\Ontology2\\view1-padj\\PANTHER\\view1-padj_VNO-male.MF.out.tsv\n"
     ]
    }
   ],
   "source": [
    "work_dir =  \"./Ontology\"\n",
    "views = [\"view1-padj\" ,\"view2-lfc2-p05\"]\n",
    "suffixes = [\"OE-female\", \"OE-male\", \"VNO-female\", \"VNO-male\"]\n",
    "\n",
    "annot_BP=\"GO:0008150\"\n",
    "annot_MF=\"GO:0003674\"\n",
    "\n",
    "for view in views:\n",
    "    for suff in suffixes:\n",
    "        file = view + '_' + suff \n",
    "        in_file=os.path.join(work_dir, view, file + '.tsv')\n",
    "        out_BP_file = os.path.join(work_dir, view, \"PANTHER\", file  + '.BP.out.tsv')\n",
    "        out_MF_file = os.path.join(work_dir, view, \"PANTHER\", file  + '.MF.out.tsv')\n",
    "        print(\"Processing:\", os.path.basename(in_file), \" for BP ...\")\n",
    "        response = routine_overrrep(in_file, out_BP_file, annot_BP)\n",
    "        print(\"Processing:\", os.path.basename(in_file), \" for MF ...\")\n",
    "        routine_overrrep(in_file, out_MF_file, annot_MF)\n",
    "        out_map = os.path.join(work_dir, view, \"PANTHER\", file  + '.map.out.tsv')\n",
    "        save_mapped(response, out_map)"
   ]
  },
  {
   "cell_type": "markdown",
   "id": "011d339a",
   "metadata": {},
   "source": [
    "## View 3"
   ]
  },
  {
   "cell_type": "code",
   "execution_count": null,
   "id": "3af036e0",
   "metadata": {},
   "outputs": [
    {
     "name": "stdout",
     "output_type": "stream",
     "text": [
      "Processing: view3-mean-h100_OE.tsv  for BP ...\n",
      "genes: 100\n",
      "Success!!! 1\n",
      "Results saved to C:\\Users\\misog\\Documents\\CUNI\\sem06\\bc_data\\Ontology2\\view3-mean-h100\\PANTHER\\view3-mean-h100_OE.BP.out.tsv\n",
      "Processing: view3-mean-h100_OE.tsv  for MF ...\n",
      "genes: 100\n",
      "Success!!! 1\n",
      "Results saved to C:\\Users\\misog\\Documents\\CUNI\\sem06\\bc_data\\Ontology2\\view3-mean-h100\\PANTHER\\view3-mean-h100_OE.MF.out.tsv\n",
      "Processing: view3-mean-h100_VNO.tsv  for BP ...\n",
      "genes: 100\n",
      "Success!!! 1\n",
      "Results saved to C:\\Users\\misog\\Documents\\CUNI\\sem06\\bc_data\\Ontology2\\view3-mean-h100\\PANTHER\\view3-mean-h100_VNO.BP.out.tsv\n",
      "Processing: view3-mean-h100_VNO.tsv  for MF ...\n",
      "genes: 100\n",
      "Success!!! 1\n",
      "Results saved to C:\\Users\\misog\\Documents\\CUNI\\sem06\\bc_data\\Ontology2\\view3-mean-h100\\PANTHER\\view3-mean-h100_VNO.MF.out.tsv\n"
     ]
    }
   ],
   "source": [
    "work_dir =  \"./Ontology\"\n",
    "view = \"view3-mean-h100\"\n",
    "suffixes = [\"OE\", \"VNO\"]\n",
    "\n",
    "annot_BP=\"GO:0008150\"\n",
    "annot_MF=\"GO:0003674\"\n",
    "\n",
    "\n",
    "for suff in suffixes:\n",
    "    file = view + '_' + suff\n",
    "    in_file=os.path.join(work_dir, view, file + '.tsv')\n",
    "\n",
    "    out_file = os.path.join(work_dir, view, \"PANTHER\", file  + '.BP.out.tsv')\n",
    "    out_MF_file = os.path.join(work_dir, view, \"PANTHER\", file  + '.MF.out.tsv')\n",
    "\n",
    "    print(\"Processing:\", os.path.basename(in_file), \" for BP ...\")\n",
    "    routine_overrrep(in_file, out_file, annot_BP)\n",
    "\n",
    "    print(\"Processing:\", os.path.basename(in_file), \" for MF ...\")\n",
    "    response = routine_overrrep(in_file, out_MF_file, annot_MF)\n",
    "\n",
    "    out_map = os.path.join(work_dir, view, \"PANTHER\", file  + '.map.out.tsv')\n",
    "    save_mapped(response, out_map)"
   ]
  }
 ],
 "metadata": {
  "kernelspec": {
   "display_name": "Python 3",
   "language": "python",
   "name": "python3"
  },
  "language_info": {
   "codemirror_mode": {
    "name": "ipython",
    "version": 3
   },
   "file_extension": ".py",
   "mimetype": "text/x-python",
   "name": "python",
   "nbconvert_exporter": "python",
   "pygments_lexer": "ipython3",
   "version": "3.10.11"
  }
 },
 "nbformat": 4,
 "nbformat_minor": 5
}
